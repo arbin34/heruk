{
  "nbformat": 4,
  "nbformat_minor": 0,
  "metadata": {
    "colab": {
      "provenance": [],
      "authorship_tag": "ABX9TyMWYcqTY7PI7hIJeuhssMfp",
      "include_colab_link": true
    },
    "kernelspec": {
      "name": "python3",
      "display_name": "Python 3"
    },
    "language_info": {
      "name": "python"
    }
  },
  "cells": [
    {
      "cell_type": "markdown",
      "metadata": {
        "id": "view-in-github",
        "colab_type": "text"
      },
      "source": [
        "<a href=\"https://colab.research.google.com/github/arbin34/heruk/blob/main/longchain.ipynb\" target=\"_parent\"><img src=\"https://colab.research.google.com/assets/colab-badge.svg\" alt=\"Open In Colab\"/></a>"
      ]
    },
    {
      "cell_type": "code",
      "source": [
        "\n"
      ],
      "metadata": {
        "id": "gf24rbJ_LTTz"
      },
      "execution_count": null,
      "outputs": []
    },
    {
      "cell_type": "code",
      "source": [
        "# Import necessary libraries for environment handling and OpenAI API integration\n",
        "import os\n",
        "from dotenv import load_dotenv\n",
        "from langchain.llms import OpenAI\n",
        "from langchain.prompts import PromptTemplate\n",
        "from langchain.chains import LLMChain\n",
        "from langchain.chains import SequentialChain\n",
        "\n",
        "# Load environment variables from .env file to securely access the OpenAI API key\n",
        "load_dotenv()\n",
        "\n",
        "# Initialize OpenAI model with the API key and set creativity level (temperature)\n",
        "llm = OpenAI(openai_api_key=os.getenv(\"OPENAI_API_KEY\"), temperature=0.7)\n",
        "\n",
        "# Define a function to generate a restaurant name and menu items based on cuisine\n",
        "def generate_restaurant_name_and_items(cuisine):\n",
        "    # Chain 1: Create a prompt to generate a fancy restaurant name based on the cuisine\n",
        "    prompt_template_name = PromptTemplate(\n",
        "        input_variables=['cuisine'],\n",
        "        template=\"I want to open a restaurant for {cuisine} food. Suggest a fancy name for this.\"\n",
        "    )\n",
        "    name_chain = LLMChain(llm=llm, prompt=prompt_template_name, output_key=\"restaurant_name\")\n",
        "\n",
        "    # Chain 2: Create a prompt to suggest menu items for the generated restaurant name\n",
        "    prompt_template_items = PromptTemplate(\n",
        "        input_variables=['restaurant_name'],\n",
        "        template=\"Suggest some menu items for {restaurant_name}. Return it as a comma separated string\"\n",
        "    )\n",
        "    food_items_chain = LLMChain(llm=llm, prompt=prompt_template_items, output_key=\"menu_items\")\n",
        "\n",
        "    # Combine both chains to sequentially generate restaurant name and menu items\n",
        "    chain = SequentialChain(\n",
        "        chains=[name_chain, food_items_chain],\n",
        "        input_variables=['cuisine'],\n",
        "        output_variables=['restaurant_name', \"menu_items\"]\n",
        "    )\n",
        "\n",
        "    # Execute the chain with the specified cuisine and return the response\n",
        "    response = chain({'cuisine': cuisine})\n",
        "    return response\n",
        "\n",
        "# Main execution block to run the function and print results for Italian cuisine\n",
        "if __name__ == \"__main__\":\n",
        "    print(generate_restaurant_name_and_items(\"Italian\"))\n",
        "\n",
        "# Import Streamlit for building the web interface\n",
        "import streamlit as st\n",
        "import langchain_helper\n",
        "\n",
        "# Set up the title for the Streamlit app\n",
        "st.title(\"Restaurant Name Generator\")\n",
        "\n",
        "# Sidebar for user to select a cuisine type\n",
        "cuisine = st.sidebar.selectbox(\"Pick a Cuisine\", (\"Indian\", \"Italian\", \"Mexican\", \"Arabic\", \"American\"))\n",
        "\n",
        "# If a cuisine is selected, generate and display the restaurant name and menu items\n",
        "if cuisine:\n",
        "    response = langchain_helper.generate_restaurant_name_and_items(cuisine)\n",
        "    st.header(response['restaurant_name'].strip())  # Display the restaurant name\n",
        "    menu_items = response['menu_items'].strip().split(\",\")  # Parse and split menu items\n",
        "    st.write(\"**Menu Items**\")\n",
        "    for item in menu_items:\n",
        "        st.write(\"-\", item)  # Display each menu item\n"
      ],
      "metadata": {
        "id": "xNAwKm6ElAhB"
      },
      "execution_count": null,
      "outputs": []
    }
  ]
}